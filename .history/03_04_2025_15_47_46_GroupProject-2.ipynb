{
 "cells": [
  {
   "cell_type": "code",
   "execution_count": null,
   "id": "46d6cecd-1924-4ee3-a718-38b4564bdc29",
   "metadata": {},
   "outputs": [],
   "source": [
    "library(tidyverse)\n",
    "library(repr)\n",
    "library(infer)\n",
    "library(cowplot)\n",
    "library(tidymodels)\n",
    "options(repr.matrix.max.rows = 6)"
   ]
  },
  {
   "cell_type": "markdown",
   "id": "0e85fe64-1ada-4eaf-a51d-a39d646e8f3c",
   "metadata": {},
   "source": [
    "**DATA WRANGLING**"
   ]
  },
  {
   "cell_type": "code",
   "execution_count": null,
   "id": "591fd05b-9858-4f04-ad20-8981ef1b89f9",
   "metadata": {},
   "outputs": [],
   "source": [
    "players <- read_csv(\"data/players.csv\") |>\n",
    "    mutate(subscribe = as_factor(subscribe)) |>\n",
    "    filter(!is.na(Age))\n",
    "players"
   ]
  },
  {
   "cell_type": "code",
   "execution_count": null,
   "id": "a5f8752e-cf66-4066-8ac9-b4d5d92171d8",
   "metadata": {},
   "outputs": [],
   "source": [
    "players_wrangled <- players |> select(subscribe, played_hours, Age)\n",
    "#sessions_wrangled"
   ]
  },
  {
   "cell_type": "code",
   "execution_count": null,
   "id": "906a6558-8442-4c36-aaa0-dfdb88a32ecc",
   "metadata": {},
   "outputs": [],
   "source": [
    "players_wrangled_true <- players_wrangled |> filter(subscribe == TRUE)\n",
    "players_wrangled_true"
   ]
  },
  {
   "cell_type": "code",
   "execution_count": null,
   "id": "068cccdf-a4c9-4de9-9457-9853d0debb42",
   "metadata": {},
   "outputs": [],
   "source": [
    "players_wrangled_false <- players_wrangled |> filter(subscribe == FALSE)\n",
    "players_wrangled_false"
   ]
  },
  {
   "cell_type": "code",
   "execution_count": null,
   "id": "d0acc48f-0b5b-404a-bdba-59257bf1bc16",
   "metadata": {},
   "outputs": [],
   "source": [
    "players_wrangled_true_avghours <- players_wrangled_true |> summarise(mean_hours = mean(played_hours))\n",
    "players_wrangled_true_avghours"
   ]
  },
  {
   "cell_type": "code",
   "execution_count": null,
   "id": "5e528c0e-1d08-4cec-9723-3252828a5cea",
   "metadata": {},
   "outputs": [],
   "source": [
    "players_wrangled_false_avghours <- players_wrangled_false |> summarise(mean_hours = mean(played_hours))\n",
    "players_wrangled_false_avghours"
   ]
  },
  {
   "cell_type": "code",
   "execution_count": null,
   "id": "daccc141-48da-46f8-8e0a-a91e2f6bc8ac",
   "metadata": {},
   "outputs": [],
   "source": [
    "subscribed_player_count <- players_wrangled_true |> nrow()\n",
    "subscribed_player_count"
   ]
  },
  {
   "cell_type": "code",
   "execution_count": null,
   "id": "2dcb8745-f8a8-4e95-9ef6-9b5334941e48",
   "metadata": {},
   "outputs": [],
   "source": [
    "nonsubscribed_player_count <- players_wrangled_false |> nrow()\n",
    "nonsubscribed_player_count"
   ]
  },
  {
   "cell_type": "code",
   "execution_count": null,
   "id": "da0013bf-5f3f-4613-9dda-3da975c8bb1c",
   "metadata": {},
   "outputs": [],
   "source": [
    "players_split <- initial_split(players_wrangled, prop = 0.75, strata = subscribe)  \n",
    "players_train <- training(players_split)   \n",
    "players_test <- testing(players_split)\n",
    "players_train\n",
    "players_test"
   ]
  },
  {
   "cell_type": "code",
   "execution_count": null,
   "id": "d6fe5652-d8ea-421b-a546-a27a3d2ec8d6",
   "metadata": {},
   "outputs": [],
   "source": [
    "subscribe_recipe <- recipe(subscribe ~ played_hours + Age, data = players_wrangled) |>\n",
    "  step_center(all_predictors()) |>  \n",
    "  step_scale(all_predictors())\n",
    "\n",
    "subscribe_model <- nearest_neighbor(weight_func = \"rectangular\", neighbors = 5) |>\n",
    "      set_engine(\"kknn\") |>\n",
    "      set_mode(\"classification\")\n",
    "\n",
    "subscribe_fit <- workflow() |>\n",
    "      add_recipe(subscribe_recipe) |>\n",
    "      add_model(subscribe_model) |>\n",
    "      fit(data = players_train)"
   ]
  },
  {
   "cell_type": "code",
   "execution_count": null,
   "id": "68b03d76-3f07-44aa-9a9c-708bd0dc28e0",
   "metadata": {},
   "outputs": [],
   "source": [
    "players_predictions <- predict(subscribe_fit, players_test)\n",
    "players_test_predictions <- bind_cols(players_test, players_predictions)\n",
    "\n",
    "players_test_predictions"
   ]
  },
  {
   "cell_type": "code",
   "execution_count": null,
   "id": "6b6eb0cb-44b6-4bef-ad97-c10ccebe2239",
   "metadata": {},
   "outputs": [],
   "source": [
    "players_test\n",
    "players_predictions"
   ]
  },
  {
   "cell_type": "code",
   "execution_count": null,
   "id": "476658a1-971d-4db0-aa08-2d147ee34ab7",
   "metadata": {},
   "outputs": [],
   "source": [
    "players_dist <- players_wrangled |>\n",
    "    ggplot(aes(x = played_hours, fill = subscribe)) +\n",
    "    geom_histogram(binwidth = 1, color = \"fill\") +\n",
    "    scale_x_continuous(limits = c(-1, 20)) +\n",
    "    labs(x = \"Number of Hours Played\", title = \"Distribution of Players\")\n",
    "\n",
    "players_dist"
   ]
  },
  {
   "cell_type": "code",
   "execution_count": null,
   "id": "eb5caf19-bd8b-46e2-a962-3012ffc92934",
   "metadata": {},
   "outputs": [],
   "source": [
    "new_obs <- tibble(played_hours = 1000,Age =90)\n",
    "class_prediction <- predict(subscribe_fit, new_obs)\n",
    "class_prediction"
   ]
  },
  {
   "cell_type": "code",
   "execution_count": null,
   "id": "0575d5e0-10cf-4d8a-80ec-89c07d1f0330",
   "metadata": {},
   "outputs": [],
   "source": []
  }
 ],
 "metadata": {
  "kernelspec": {
   "display_name": "R",
   "language": "R",
   "name": "ir"
  },
  "language_info": {
   "codemirror_mode": "r",
   "file_extension": ".r",
   "mimetype": "text/x-r-source",
   "name": "R",
   "pygments_lexer": "r",
   "version": "4.3.3"
  }
 },
 "nbformat": 4,
 "nbformat_minor": 5
}
