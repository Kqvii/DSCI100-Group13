{
 "cells": [
  {
   "cell_type": "code",
   "execution_count": null,
   "id": "46d6cecd-1924-4ee3-a718-38b4564bdc29",
   "metadata": {},
   "outputs": [],
   "source": [
    "library(tidyverse)\n",
    "library(repr)\n",
    "library(infer)\n",
    "library(cowplot)\n",
    "library(tidymodels)\n",
    "options(repr.matrix.max.rows = 6)"
   ]
  },
  {
   "cell_type": "markdown",
   "id": "9c234125-81a6-4974-bcc3-ba84b39d7267",
   "metadata": {},
   "source": [
    "<h2>Introduction</h2> \n",
    "\n",
    "<h4>Background Information</h4>  \n",
    "\n",
    "We are interested in what player characteristics and behaviours are most predictive of subscribing to a game-related newsletter, and how these  \n",
    "features differ between various player types. Specifically, we are interested in if **a player's total playtime and age can predict if that player is  \n",
    "subscribed to a game-related newsletter or not**. In order to carry out our analysis, we must load the data in and make changes to the data so that it  \n",
    "is formatted appropriately. This also allows us to properly visualize the data which helps us navigate through our analysis as well as convey information.  \n",
    "With the properly formatted data and the information provided by the visualizations, we can perform the data analysis. More specifically, we  \n",
    "will be able to create an algorithm that tries to categorize if a player is subscribed to a game-related newsletter based on total playtime and age.  \n",
    "This algorithm can be trained and tested and its accuracy will help us come to a conclusion. Additional visualizations will help convey the reasoning  \n",
    "behind our conclusion.\n",
    "\n",
    "<h4>Data Description</h4>\n",
    "\n",
    "Datasets provided for the analysis are **sessions.csv** and **players.csv**\n",
    "\n",
    "Dataset **sessions.csv** contains data for unique play sessions including the session start and end times and a string unique to each player.  \n",
    "The columns in this data set are:\n",
    "1. **hashedEmail**: string variable unique for the player\n",
    "2. **start_time**: character variable indicating date and time of start of session\n",
    "3. **end_time**: character variable indicating date and time of end of session\n",
    "4. **original_start_time**: numeric variable indicating start time of session in unknown format\n",
    "5. **original_end_time**: numeric variable indicating end time of session in unknown format\n",
    "\n",
    "Dataset **players.csv** contains data for each unique player including personal and game-related information.  \n",
    "The columns in this data set are:\n",
    "1. **experience**: categorical variable stating the experience level of the player\n",
    "2. **subscribe**: boolean variable stating if the player is subscribed to a game-related newsletter\n",
    "3. **hashedEmail**: string variable unique for the player\n",
    "4. **played_hours**: numeric variable stating total hours played for the player\n",
    "5. **name**: string variable stating the name of the player\n",
    "6. **gender**: string variable stating the gender of the player\n",
    "7. **Age**: numeric variable stating the age of the player"
   ]
  },
  {
   "cell_type": "markdown",
   "id": "0e85fe64-1ada-4eaf-a51d-a39d646e8f3c",
   "metadata": {},
   "source": [
    "<h2>Methods & Results</h2>\n",
    "\n",
    "<h4>Data Wrangling</h4>"
   ]
  },
  {
   "cell_type": "code",
   "execution_count": null,
   "id": "591fd05b-9858-4f04-ad20-8981ef1b89f9",
   "metadata": {},
   "outputs": [],
   "source": [
    "players <- read_csv(\"https://raw.githubusercontent.com/Kqvii/DSCI100-Group13/refs/heads/main/data/players.csv\") |>\n",
    "    mutate(subscribe = as_factor(subscribe)) |>\n",
    "    filter(!is.na(Age))\n",
    "players"
   ]
  },
  {
   "cell_type": "code",
   "execution_count": null,
   "id": "a5f8752e-cf66-4066-8ac9-b4d5d92171d8",
   "metadata": {},
   "outputs": [],
   "source": [
    "players_wrangled <- players |> select(subscribe, played_hours, Age)"
   ]
  },
  {
   "cell_type": "code",
   "execution_count": null,
   "id": "a0bb1538-0648-40b4-a365-8e2fa6616b5b",
   "metadata": {},
   "outputs": [],
   "source": [
    "subscribed_viz_data <- players_wrangled |>\n",
    "    group_by(subscribe) |>\n",
    "    summarize(subscribed = n(),\n",
    "              average_hours_played = mean(played_hours))\n",
    "subscribed_viz_data\n",
    "\n",
    "subscribed_viz <- subscribed_viz_data |>\n",
    "    ggplot(aes(x = subscribe, y = subscribed, fill = subscribe)) +\n",
    "        geom_bar(stat = \"identity\") +\n",
    "        labs(x = \"Subscribed to Game-Related Newsletter\",\n",
    "             y = \"Number of Players\",\n",
    "             title = \"Bar Plot for Number of Players Subscribed to a Game-Related Newsletter\",\n",
    "             fill = \"Subscribed\")\n",
    "subscribed_viz"
   ]
  },
  {
   "cell_type": "code",
   "execution_count": null,
   "id": "da0013bf-5f3f-4613-9dda-3da975c8bb1c",
   "metadata": {},
   "outputs": [],
   "source": [
    "players_split <- initial_split(players_wrangled, prop = 0.75, strata = subscribe)  \n",
    "players_train <- training(players_split)   \n",
    "players_test <- testing(players_split)\n",
    "players_train\n",
    "players_test"
   ]
  },
  {
   "cell_type": "code",
   "execution_count": null,
   "id": "d6fe5652-d8ea-421b-a546-a27a3d2ec8d6",
   "metadata": {},
   "outputs": [],
   "source": [
    "subscribe_recipe <- recipe(subscribe ~ played_hours + Age, data = players_wrangled) |>\n",
    "  step_center(all_predictors()) |>  \n",
    "  step_scale(all_predictors())\n",
    "\n",
    "subscribe_model <- nearest_neighbor(weight_func = \"rectangular\", neighbors = 5) |>\n",
    "      set_engine(\"kknn\") |>\n",
    "      set_mode(\"classification\")\n",
    "\n",
    "subscribe_fit <- workflow() |>\n",
    "      add_recipe(subscribe_recipe) |>\n",
    "      add_model(subscribe_model) |>\n",
    "      fit(data = players_train)"
   ]
  },
  {
   "cell_type": "code",
   "execution_count": null,
   "id": "68b03d76-3f07-44aa-9a9c-708bd0dc28e0",
   "metadata": {},
   "outputs": [],
   "source": [
    "players_predictions <- predict(subscribe_fit, players_test)\n",
    "players_test_predictions <- bind_cols(players_test, players_predictions)\n",
    "\n",
    "players_test_predictions"
   ]
  },
  {
   "cell_type": "code",
   "execution_count": null,
   "id": "6b6eb0cb-44b6-4bef-ad97-c10ccebe2239",
   "metadata": {},
   "outputs": [],
   "source": [
    "players_test\n",
    "players_predictions"
   ]
  },
  {
   "cell_type": "code",
   "execution_count": null,
   "id": "9c7286f9-49a6-43eb-98d6-203bb227d4bf",
   "metadata": {},
   "outputs": [],
   "source": [
    "players_plot <- players_wrangled |>\n",
    "    ggplot(aes(x = Age, y = played_hours)) + \n",
    "        geom_point(aes(colour = subscribe)) +\n",
    "        xlab(\"Age (years)\") + \n",
    "        ylab(\"Overall Playtime (Hours)\")\n",
    "players_plot"
   ]
  },
  {
   "cell_type": "code",
   "execution_count": null,
   "id": "476658a1-971d-4db0-aa08-2d147ee34ab7",
   "metadata": {},
   "outputs": [],
   "source": [
    "players_dist <- players_wrangled |>\n",
    "    ggplot(aes(x = played_hours, fill = subscribe)) +\n",
    "    geom_histogram(binwidth = 1, color = \"Black\") +\n",
    "    scale_x_continuous(limits = c(-1, 20)) +\n",
    "    labs(x = \"Number of Hours Played\", title = \"Distribution of Players\")\n",
    "\n",
    "players_dist"
   ]
  },
  {
   "cell_type": "code",
   "execution_count": null,
   "id": "eb5caf19-bd8b-46e2-a962-3012ffc92934",
   "metadata": {},
   "outputs": [],
   "source": [
    "new_obs <- tibble(played_hours = 0.1,Age =40)\n",
    "class_prediction <- predict(subscribe_fit, new_obs)\n",
    "class_prediction"
   ]
  },
  {
   "cell_type": "code",
   "execution_count": null,
   "id": "e59df7b6-5bd5-4fa5-ae3a-1e60def6d4e3",
   "metadata": {},
   "outputs": [],
   "source": []
  },
  {
   "cell_type": "code",
   "execution_count": null,
   "id": "0575d5e0-10cf-4d8a-80ec-89c07d1f0330",
   "metadata": {},
   "outputs": [],
   "source": [
    "subscribe_vfold <- vfold_cv(players_train, v = 5, strata = subscribe)"
   ]
  },
  {
   "cell_type": "code",
   "execution_count": null,
   "id": "ed53d28a-a6eb-45cf-9108-538266120293",
   "metadata": {},
   "outputs": [],
   "source": [
    "players_resample_fit <- workflow() |> \n",
    "  add_recipe(subscribe_recipe) |>   \n",
    "  add_model(subscribe_model) |>       \n",
    "  fit_resamples(resamples = subscribe_vfold)"
   ]
  },
  {
   "cell_type": "code",
   "execution_count": null,
   "id": "59e79727-a574-4fd1-8b58-7f494852462e",
   "metadata": {},
   "outputs": [],
   "source": [
    "players_metrics <- collect_metrics(players_resample_fit)\n",
    "players_metrics"
   ]
  },
  {
   "cell_type": "code",
   "execution_count": null,
   "id": "f79bdbf6-71d8-4486-9973-ab5f3f20f447",
   "metadata": {},
   "outputs": [],
   "source": [
    "players_tune <- nearest_neighbor(mode = \"classification\", \n",
    "                             neighbors = tune(), \n",
    "                             weight_func = \"rectangular\") |> \n",
    "  set_engine(\"kknn\")\n",
    "\n",
    "players_tune"
   ]
  },
  {
   "cell_type": "code",
   "execution_count": null,
   "id": "803db234-04ce-44c8-b4a8-2b089b51afa0",
   "metadata": {},
   "outputs": [],
   "source": [
    "k_vals <- tibble(neighbors = seq(from = 1, to = 10, by = 1))\n",
    "\n",
    "knn_results <- workflow() |> \n",
    "  add_recipe(subscribe_recipe) |>  # Add preprocessing recipe\n",
    "  add_model(players_tune) |>       # Add k-NN model with tuning\n",
    "  tune_grid(resamples = subscribe_vfold, grid = k_vals) |>  # Perform tuning on cross-validation splits\n",
    "  collect_metrics()  # Aggregate performance metrics\n",
    "                 \n",
    "knn_results"
   ]
  },
  {
   "cell_type": "code",
   "execution_count": null,
   "id": "56055852-9ae3-48f7-92f7-27baf0f4fea2",
   "metadata": {},
   "outputs": [],
   "source": [
    "accuracies <- knn_results |> filter(.metric == \"accuracy\")\n",
    "accuracy_versus_k <- ggplot(accuracies, aes(x = neighbors, y = mean))+\n",
    "      geom_point() +\n",
    "      geom_line() +\n",
    "      labs(x = \"Neighbors\", y = \"Accuracy Estimate\") +\n",
    "      scale_x_continuous(breaks = seq(0, 14, by = 1)) +  # adjusting the x-axis\n",
    "      scale_y_continuous(limits = c(0.4, 1.0)) # adjusting the y-axis\n",
    "accuracy_versus_k"
   ]
  },
  {
   "cell_type": "code",
   "execution_count": null,
   "id": "a814fe2c-4c84-486f-8a11-9114d582d52b",
   "metadata": {},
   "outputs": [],
   "source": []
  }
 ],
 "metadata": {
  "kernelspec": {
   "display_name": "R",
   "language": "R",
   "name": "ir"
  },
  "language_info": {
   "codemirror_mode": "r",
   "file_extension": ".r",
   "mimetype": "text/x-r-source",
   "name": "R",
   "pygments_lexer": "r",
   "version": "4.3.3"
  }
 },
 "nbformat": 4,
 "nbformat_minor": 5
}
